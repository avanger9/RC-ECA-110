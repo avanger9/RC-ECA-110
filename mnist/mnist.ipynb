{
 "cells": [
  {
   "cell_type": "code",
   "execution_count": 1,
   "metadata": {
    "colab": {},
    "colab_type": "code",
    "id": "exDsOocHOWui"
   },
   "outputs": [],
   "source": [
    "import numpy as np\n",
    "import struct as st"
   ]
  },
  {
   "cell_type": "code",
   "execution_count": 2,
   "metadata": {
    "colab": {},
    "colab_type": "code",
    "id": "ZLGw7b4LOaWl"
   },
   "outputs": [],
   "source": [
    "import matplotlib.pyplot as plt"
   ]
  },
  {
   "cell_type": "code",
   "execution_count": 3,
   "metadata": {
    "colab": {},
    "colab_type": "code",
    "id": "1O10Ip8iPe5x"
   },
   "outputs": [],
   "source": [
    "import time\n",
    "import math"
   ]
  },
  {
   "cell_type": "code",
   "execution_count": 3,
   "metadata": {
    "colab": {
     "base_uri": "https://localhost:8080/",
     "height": 202
    },
    "colab_type": "code",
    "id": "c9WwVqo4Ocan",
    "outputId": "f7b7d5a7-6ac8-4d22-af82-090f34dbd125"
   },
   "outputs": [
    {
     "name": "stdout",
     "output_type": "stream",
     "text": [
      "--2020-09-10 13:35:02--  http://yann.lecun.com/exdb/mnist/train-images-idx3-ubyte.gz\n",
      "Resolving yann.lecun.com (yann.lecun.com)... 104.28.6.204, 104.28.7.204, 172.67.171.76, ...\n",
      "Connecting to yann.lecun.com (yann.lecun.com)|104.28.6.204|:80... connected.\n",
      "HTTP request sent, awaiting response... 200 OK\n",
      "Length: 9912422 (9.5M) [application/x-gzip]\n",
      "Saving to: ‘train-images-idx3-ubyte.gz’\n",
      "\n",
      "train-images-idx3-u 100%[===================>]   9.45M  34.2MB/s    in 0.3s    \n",
      "\n",
      "2020-09-10 13:35:03 (34.2 MB/s) - ‘train-images-idx3-ubyte.gz’ saved [9912422/9912422]\n",
      "\n"
     ]
    }
   ],
   "source": [
    "!wget http://yann.lecun.com/exdb/mnist/train-images-idx3-ubyte.gz"
   ]
  },
  {
   "cell_type": "code",
   "execution_count": 4,
   "metadata": {
    "colab": {
     "base_uri": "https://localhost:8080/",
     "height": 202
    },
    "colab_type": "code",
    "id": "gdFBjlKrOghU",
    "outputId": "eb3e50fd-a57f-4408-dc73-817d9d1d9d54"
   },
   "outputs": [
    {
     "name": "stdout",
     "output_type": "stream",
     "text": [
      "--2020-09-10 13:35:12--  http://yann.lecun.com/exdb/mnist/train-labels-idx1-ubyte.gz\n",
      "Resolving yann.lecun.com (yann.lecun.com)... 172.67.171.76, 104.28.7.204, 104.28.6.204, ...\n",
      "Connecting to yann.lecun.com (yann.lecun.com)|172.67.171.76|:80... connected.\n",
      "HTTP request sent, awaiting response... 200 OK\n",
      "Length: 28881 (28K) [application/x-gzip]\n",
      "Saving to: ‘train-labels-idx1-ubyte.gz’\n",
      "\n",
      "\r",
      "          train-lab   0%[                    ]       0  --.-KB/s               \r",
      "train-labels-idx1-u 100%[===================>]  28.20K  --.-KB/s    in 0.02s   \n",
      "\n",
      "2020-09-10 13:35:12 (1.30 MB/s) - ‘train-labels-idx1-ubyte.gz’ saved [28881/28881]\n",
      "\n"
     ]
    }
   ],
   "source": [
    "!wget http://yann.lecun.com/exdb/mnist/train-labels-idx1-ubyte.gz"
   ]
  },
  {
   "cell_type": "code",
   "execution_count": 5,
   "metadata": {
    "colab": {
     "base_uri": "https://localhost:8080/",
     "height": 202
    },
    "colab_type": "code",
    "id": "DyIdseZoOi7u",
    "outputId": "9748ec54-0807-4296-a927-1613aab53fd1"
   },
   "outputs": [
    {
     "name": "stdout",
     "output_type": "stream",
     "text": [
      "--2020-09-10 13:35:23--  http://yann.lecun.com/exdb/mnist/t10k-images-idx3-ubyte.gz\n",
      "Resolving yann.lecun.com (yann.lecun.com)... 172.67.171.76, 104.28.7.204, 104.28.6.204, ...\n",
      "Connecting to yann.lecun.com (yann.lecun.com)|172.67.171.76|:80... connected.\n",
      "HTTP request sent, awaiting response... 200 OK\n",
      "Length: 1648877 (1.6M) [application/x-gzip]\n",
      "Saving to: ‘t10k-images-idx3-ubyte.gz’\n",
      "\n",
      "t10k-images-idx3-ub 100%[===================>]   1.57M  9.57MB/s    in 0.2s    \n",
      "\n",
      "2020-09-10 13:35:23 (9.57 MB/s) - ‘t10k-images-idx3-ubyte.gz’ saved [1648877/1648877]\n",
      "\n"
     ]
    }
   ],
   "source": [
    "!wget http://yann.lecun.com/exdb/mnist/t10k-images-idx3-ubyte.gz"
   ]
  },
  {
   "cell_type": "code",
   "execution_count": 6,
   "metadata": {
    "colab": {
     "base_uri": "https://localhost:8080/",
     "height": 202
    },
    "colab_type": "code",
    "id": "LAAPrRCBOljY",
    "outputId": "38e85451-9cf4-4fbf-bc3d-bcb6c6b513ea"
   },
   "outputs": [
    {
     "name": "stdout",
     "output_type": "stream",
     "text": [
      "--2020-09-10 13:35:31--  http://yann.lecun.com/exdb/mnist/t10k-labels-idx1-ubyte.gz\n",
      "Resolving yann.lecun.com (yann.lecun.com)... 172.67.171.76, 104.28.7.204, 104.28.6.204, ...\n",
      "Connecting to yann.lecun.com (yann.lecun.com)|172.67.171.76|:80... connected.\n",
      "HTTP request sent, awaiting response... 200 OK\n",
      "Length: 4542 (4.4K) [application/x-gzip]\n",
      "Saving to: ‘t10k-labels-idx1-ubyte.gz’\n",
      "\n",
      "\r",
      "          t10k-labe   0%[                    ]       0  --.-KB/s               \r",
      "t10k-labels-idx1-ub 100%[===================>]   4.44K  --.-KB/s    in 0s      \n",
      "\n",
      "2020-09-10 13:35:31 (427 MB/s) - ‘t10k-labels-idx1-ubyte.gz’ saved [4542/4542]\n",
      "\n"
     ]
    }
   ],
   "source": [
    "!wget http://yann.lecun.com/exdb/mnist/t10k-labels-idx1-ubyte.gz"
   ]
  },
  {
   "cell_type": "code",
   "execution_count": 4,
   "metadata": {
    "colab": {},
    "colab_type": "code",
    "id": "IclAgrFUOngh"
   },
   "outputs": [],
   "source": [
    "!gzip -d ./train-images-idx3-ubyte.gz"
   ]
  },
  {
   "cell_type": "code",
   "execution_count": 5,
   "metadata": {
    "colab": {},
    "colab_type": "code",
    "id": "5lpS81rMOz4C"
   },
   "outputs": [],
   "source": [
    "!gzip -d ./train-labels-idx1-ubyte.gz"
   ]
  },
  {
   "cell_type": "code",
   "execution_count": 6,
   "metadata": {
    "colab": {},
    "colab_type": "code",
    "id": "GWm6_69ZO28h"
   },
   "outputs": [],
   "source": [
    "!gzip -d ./t10k-labels-idx1-ubyte.gz"
   ]
  },
  {
   "cell_type": "code",
   "execution_count": 7,
   "metadata": {
    "colab": {},
    "colab_type": "code",
    "id": "cM4lmx-xO53-"
   },
   "outputs": [],
   "source": [
    "!gzip -d ./t10k-images-idx3-ubyte.gz"
   ]
  },
  {
   "cell_type": "code",
   "execution_count": 8,
   "metadata": {
    "colab": {
     "base_uri": "https://localhost:8080/",
     "height": 638
    },
    "colab_type": "code",
    "id": "i_i-gjgbO8jE",
    "outputId": "3b034ee4-d056-4dfd-8999-19007ef8e2ae"
   },
   "outputs": [
    {
     "name": "stdout",
     "output_type": "stream",
     "text": [
      "Training Dataset.......\n",
      "Data is 3-D\n",
      "Data Type ::  ubyte\n",
      "Data Format ::  B\n",
      "Data Size :: 1 byte\n",
      "\n",
      "no. of images ::  60000\n",
      "no. of rows ::  28\n",
      "no. of columns ::  28\n",
      "Time taken :: 1.550595760345459 seconds\n",
      "\n",
      "16.666666666666664% complete...\n",
      "\n",
      "Time taken :: 2.8283119201660156 seconds\n",
      "\n",
      "33.33333333333333% complete...\n",
      "\n",
      "Time taken :: 4.090740203857422 seconds\n",
      "\n",
      "50.0% complete...\n",
      "\n",
      "Time taken :: 5.386364936828613 seconds\n",
      "\n",
      "66.66666666666666% complete...\n",
      "\n",
      "Time taken :: 6.688209056854248 seconds\n",
      "\n",
      "83.33333333333334% complete...\n",
      "\n",
      "Time taken :: 7.983193874359131 seconds\n",
      "\n",
      "100.0% complete...\n",
      "\n",
      "Training Set Labels shape :: (60000, 1)\n",
      "Training Set Image shape :: (60000, 28, 28)\n",
      "Time of execution :: 7.98404860496521 seconds\n",
      "\n"
     ]
    }
   ],
   "source": [
    "trainingfilenames = {'images' : './train-images-idx3-ubyte' ,'labels' : './train-labels-idx1-ubyte'}\n",
    "testfilenames = {'images' : './t10k-images-idx3-ubyte' ,'labels' : './t10k-labels-idx1-ubyte'}\n",
    "\n",
    "data_types = {\n",
    "        0x08: ('ubyte', 'B', 1),\n",
    "        0x09: ('byte', 'b', 1),\n",
    "        0x0B: ('>i2', 'h', 2),\n",
    "        0x0C: ('>i4', 'i', 4),\n",
    "        0x0D: ('>f4', 'f', 4),\n",
    "        0x0E: ('>f8', 'd', 8)}\n",
    "\n",
    "#..........................................................For training dataset..............................................................\n",
    "print(\"Training Dataset.......\")\n",
    "stime = time.time()\n",
    "for name in trainingfilenames.keys():\n",
    "\tif name == 'images':\n",
    "\t\ttrain_imagesfile = open(trainingfilenames[name],'rb')\n",
    "\tif name == 'labels':\n",
    "\t\ttrain_labelsfile = open(trainingfilenames[name],'rb')#,encoding='latin-1')\n",
    "\n",
    "train_imagesfile.seek(0)\n",
    "magic = st.unpack('>4B',train_imagesfile.read(4))\n",
    "if(magic[0] and magic[1])or(magic[2] not in data_types):\n",
    "\traise ValueError(\"File Format not correct\")\n",
    "\n",
    "#Information\n",
    "nDim = magic[3]\n",
    "print(\"Data is \"+str(nDim)+\"-D\")\n",
    "dataType = data_types[magic[2]][0]\n",
    "print(\"Data Type :: \",dataType)\n",
    "dataFormat = data_types[magic[2]][1]\n",
    "print(\"Data Format :: \",dataFormat)\n",
    "dataSize = data_types[magic[2]][2]\n",
    "print(\"Data Size :: \"+str(dataSize)+\" byte\\n\")\n",
    "\n",
    "#offset = 0004 for number of images\n",
    "#offset = 0008 for number of rows\n",
    "#offset = 0012 for number of columns\n",
    "#32-bit integer (32 bits = 4 bytes)\n",
    "train_imagesfile.seek(4)\n",
    "nImg = st.unpack('>I',train_imagesfile.read(4))[0] #num of images/labels\n",
    "nR = st.unpack('>I',train_imagesfile.read(4))[0] #num of rows\n",
    "nC = st.unpack('>I',train_imagesfile.read(4))[0] #num of columns\n",
    "\n",
    "train_labelsfile.seek(8) #Since no. of items = no. of images and is already read\n",
    "print(\"no. of images :: \",nImg)\n",
    "print(\"no. of rows :: \",nR)\n",
    "print(\"no. of columns :: \",nC)\n",
    "print\n",
    "#Training set\n",
    "#Reading the labels\n",
    "train_labels_array = np.asarray(st.unpack('>'+dataFormat*nImg,train_labelsfile.read(nImg*dataSize))).reshape((nImg,1))\n",
    "#Reading the Image data\n",
    "nBatch = 10000\n",
    "nIter = int(math.ceil(nImg/nBatch))\n",
    "nBytes = nBatch*nR*nC*dataSize\n",
    "nBytesTot = nImg*nR*nC*dataSize\n",
    "train_images_array = np.array([])\n",
    "for i in range(0,nIter):\n",
    "\t#try:\n",
    "\ttemp_images_array = np.asarray(st.unpack('>'+dataFormat*nBytes,train_imagesfile.read(nBytes))).reshape((nBatch,nR,nC))\n",
    "\t'''except:\n",
    "\t\tnbytes = nBytesTot - (nIter-1)*nBytes\n",
    "\t\ttemp_images_array = 255 - np.asarray(st.unpack('>'+'B'*nbytes,train_imagesfile.read(nbytes))).reshape((nBatch,nR,nC))'''\n",
    "\t#Stacking each nBatch block to form a larger block\n",
    "\tif train_images_array.size == 0:\n",
    "\t\ttrain_images_array = temp_images_array\n",
    "\telse:\n",
    "\t\ttrain_images_array = np.vstack((train_images_array,temp_images_array))\n",
    "\ttemp_images_array = np.array([])\n",
    "\tprint(\"Time taken :: \"+str(time.time()-stime)+\" seconds\\n\")\n",
    "\tprint(str((float(i+1)/nIter)*100)+\"% complete...\\n\")\n",
    "\n",
    "\n",
    "print(\"Training Set Labels shape ::\",train_labels_array.shape)\n",
    "print(\"Training Set Image shape ::\",train_images_array.shape)\n",
    "\n",
    "print(\"Time of execution :: \"+str(time.time()-stime)+\" seconds\\n\")\n"
   ]
  },
  {
   "cell_type": "code",
   "execution_count": 9,
   "metadata": {
    "colab": {
     "base_uri": "https://localhost:8080/",
     "height": 218
    },
    "colab_type": "code",
    "id": "tfBt9-QrPaKT",
    "outputId": "30bfc439-c414-47fc-fb54-f8f849a22989"
   },
   "outputs": [
    {
     "name": "stdout",
     "output_type": "stream",
     "text": [
      "Test Dataset.......\n",
      "Data is  3 -D\n",
      "no. of images ::  10000\n",
      "no. of rows ::  28\n",
      "no. of columns ::  28\n",
      "Time taken :: 1.1318941116333008 seconds\n",
      "\n",
      "100.0% complete...\n",
      "\n",
      "Test Set Labels shape :: (10000, 1)\n",
      "Test Set Image shape :: (10000, 28, 28)\n",
      "Time of execution : 1.1330170631408691 seconds\n"
     ]
    }
   ],
   "source": [
    "#..........................................................For test dataset..................................................................\n",
    "print(\"Test Dataset.......\")\n",
    "stime = time.time()\n",
    "for name in testfilenames.keys():\n",
    "\tif name == 'images':\n",
    "\t\ttest_imagesfile = open(testfilenames[name],'rb')\n",
    "\tif name == 'labels':\n",
    "\t\ttest_labelsfile = open(testfilenames[name],'rb')\n",
    "test_imagesfile.seek(0)\n",
    "magic = st.unpack('>4B',test_imagesfile.read(4))\n",
    "if(magic[0] and magic[1])or(magic[2] not in data_types):\n",
    "\traise ValueError(\"File Format not correct\")\n",
    "\n",
    "nDim = magic[3]\n",
    "print(\"Data is \",nDim,\"-D\")\n",
    "print\n",
    "#offset = 0004 for number of images\n",
    "#offset = 0008 for number of rows\n",
    "#offset = 0012 for number of columns\n",
    "#32-bit integer (32 bits = 4 bytes)\n",
    "test_imagesfile.seek(4)\n",
    "nImg = st.unpack('>I',test_imagesfile.read(4))[0] #num of images/labels\n",
    "nR = st.unpack('>I',test_imagesfile.read(4))[0] #num of rows\n",
    "nC = st.unpack('>I',test_imagesfile.read(4))[0] #num of columns\n",
    "\n",
    "test_labelsfile.seek(8) #Since no. of items = no. of images and is already read\n",
    "print(\"no. of images :: \",nImg)\n",
    "print(\"no. of rows :: \",nR)\n",
    "print(\"no. of columns :: \",nC)\n",
    "print\n",
    "#Test set\n",
    "#Reading the labels\n",
    "test_labels_array = np.asarray(st.unpack('>'+dataFormat*nImg,test_labelsfile.read(nImg*dataSize))).reshape((nImg,1))\n",
    "#Reading the Image data\n",
    "nBatch = 10000\n",
    "nIter = int(math.ceil(nImg/nBatch))\n",
    "nBytes = nBatch*nR*nC*dataSize\n",
    "nBytesTot = nImg*nR*nC*dataSize\n",
    "test_images_array = np.array([])\n",
    "for i in range(0,nIter):\n",
    "\t#try:\n",
    "\ttemp_images_array = np.asarray(st.unpack('>'+dataFormat*nBytes,test_imagesfile.read(nBytes))).reshape((nBatch,nR,nC))\n",
    "\t'''except:\n",
    "\t\tnbytes = nBytesTot - (nIter-1)*nBytes\n",
    "\t\ttemp_images_array = 255 - np.asarray(st.unpack('>'+'B'*nbytes,test_imagesfile.read(nbytes))).reshape((nBatch,nR,nC))'''\n",
    "\t#Stacking each nBatch block to form a larger block\n",
    "\tif test_images_array.size == 0:\n",
    "\t\ttest_images_array = temp_images_array\n",
    "\telse:\n",
    "\t\ttest_images_array = np.vstack((test_images_array,temp_images_array))\n",
    "\ttemp_images_array = np.array([])\n",
    "\tprint(\"Time taken :: \"+str(time.time()-stime)+\" seconds\\n\")\n",
    "\tprint(str((float(i+1)/nIter)*100)+\"% complete...\\n\")\n",
    "\n",
    "\n",
    "print(\"Test Set Labels shape ::\",test_labels_array.shape)\n",
    "print(\"Test Set Image shape ::\",test_images_array.shape)\n",
    "\n",
    "print(\"Time of execution : %s seconds\" % str(time.time()-stime))"
   ]
  },
  {
   "cell_type": "code",
   "execution_count": 12,
   "metadata": {
    "colab": {
     "base_uri": "https://localhost:8080/",
     "height": 282
    },
    "colab_type": "code",
    "id": "SuDBSzGwVenC",
    "outputId": "52afd7f5-19fb-475b-946a-4b33dd68b371"
   },
   "outputs": [
    {
     "data": {
      "text/plain": [
       "<matplotlib.image.AxesImage at 0x7f0995b1b460>"
      ]
     },
     "execution_count": 12,
     "metadata": {},
     "output_type": "execute_result"
    },
    {
     "data": {
      "image/png": "[encoded data removed]",
      "text/plain": [
       "<Figure size 432x288 with 1 Axes>"
      ]
     },
     "metadata": {
      "needs_background": "light"
     },
     "output_type": "display_data"
    }
   ],
   "source": [
    "plt.imshow(train_images_array[10000],cmap='gray')"
   ]
  },
  {
   "cell_type": "code",
   "execution_count": 21,
   "metadata": {},
   "outputs": [
    {
     "data": {
      "text/plain": [
       "253"
      ]
     },
     "execution_count": 21,
     "metadata": {},
     "output_type": "execute_result"
    }
   ],
   "source": [
    "train_images_array[10000][15][17]"
   ]
  },
  {
   "cell_type": "code",
   "execution_count": 13,
   "metadata": {
    "colab": {},
    "colab_type": "code",
    "id": "_RnmW72NWJGS"
   },
   "outputs": [
    {
     "name": "stdout",
     "output_type": "stream",
     "text": [
      "Training Set Labels shape :: (60000, 1)\n",
      "Training Set Image shape :: (60000, 28, 28)\n",
      "Test Set Labels shape :: (10000, 1)\n",
      "Test Set Image shape :: (10000, 28, 28)\n"
     ]
    }
   ],
   "source": [
    "print(\"Training Set Labels shape ::\",train_labels_array.shape)\n",
    "print(\"Training Set Image shape ::\",train_images_array.shape)\n",
    "print(\"Test Set Labels shape ::\",test_labels_array.shape)\n",
    "print(\"Test Set Image shape ::\",test_images_array.shape)"
   ]
  },
  {
   "cell_type": "code",
   "execution_count": 14,
   "metadata": {},
   "outputs": [],
   "source": [
    "np.save('train_labels_array.numpy',train_labels_array)\n",
    "np.save('train_images_array.numpy',train_images_array)\n",
    "np.save('test_labels_array.numpy',test_labels_array)\n",
    "np.save('test_images_array.numpy',test_images_array)"
   ]
  },
  {
   "cell_type": "code",
   "execution_count": 25,
   "metadata": {},
   "outputs": [
    {
     "name": "stdout",
     "output_type": "stream",
     "text": [
      "Training Set Labels shape :: (60000, 1)\n",
      "Training Set Image shape :: (60000, 28, 28)\n",
      "Test Set Labels shape :: (10000, 1)\n",
      "Test Set Image shape :: (10000, 28, 28)\n"
     ]
    }
   ],
   "source": [
    "trla = np.load('./train_labels_array.numpy.npy')\n",
    "tria = np.load('./train_images_array.numpy.npy')\n",
    "tela = np.load('./test_labels_array.numpy.npy')\n",
    "teia = np.load('./test_images_array.numpy.npy')\n",
    "print(\"Training Set Labels shape ::\",trla.shape)\n",
    "print(\"Training Set Image shape ::\",tria.shape)\n",
    "print(\"Test Set Labels shape ::\",tela.shape)\n",
    "print(\"Test Set Image shape ::\",teia.shape)"
   ]
  },
  {
   "cell_type": "code",
   "execution_count": null,
   "metadata": {},
   "outputs": [],
   "source": []
  }
 ],
 "metadata": {
  "colab": {
   "name": "mnist.ipynb",
   "provenance": []
  },
  "kernelspec": {
   "display_name": "Python 3",
   "language": "python",
   "name": "python3"
  },
  "language_info": {
   "codemirror_mode": {
    "name": "ipython",
    "version": 3
   },
   "file_extension": ".py",
   "mimetype": "text/x-python",
   "name": "python",
   "nbconvert_exporter": "python",
   "pygments_lexer": "ipython3",
   "version": "3.8.5"
  }
 },
 "nbformat": 4,
 "nbformat_minor": 1
}
